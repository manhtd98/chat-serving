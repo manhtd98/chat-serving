{
 "cells": [
  {
   "cell_type": "code",
   "execution_count": 12,
   "metadata": {},
   "outputs": [],
   "source": [
    "import os\n",
    "from langchain.text_splitter import RecursiveCharacterTextSplitter\n",
    "from langchain.vectorstores import FAISS\n",
    "\n",
    "from langchain.embeddings import HuggingFaceEmbeddings\n",
    "from langchain.llms import HuggingFacePipeline\n",
    "from langchain.document_loaders import DirectoryLoader\n",
    "from langchain.document_loaders import UnstructuredWordDocumentLoader\n",
    "from torch import cuda, bfloat16\n",
    "import transformers\n",
    "from transformers import StoppingCriteria, StoppingCriteriaList\n",
    "import torch\n",
    "from langchain.chains import ConversationalRetrievalChain\n",
    "from langchain.llms import LlamaCpp\n",
    "from langchain import PromptTemplate, LLMChain\n",
    "from langchain.callbacks.manager import CallbackManager\n",
    "from langchain.callbacks.streaming_stdout import StreamingStdOutCallbackHandler\n",
    "from langchain.memory import ConversationBufferMemory\n",
    "from langchain.document_loaders import JSONLoader\n",
    "from langchain.retrievers import TFIDFRetriever, EnsembleRetriever\n",
    "from langchain.retrievers.merger_retriever import MergerRetriever\n",
    "from langchain.embeddings import HuggingFaceEmbeddings\n",
    "from langchain.document_transformers import (\n",
    "    EmbeddingsRedundantFilter,\n",
    "    EmbeddingsClusteringFilter,\n",
    ")\n",
    "from langchain.retrievers.document_compressors import DocumentCompressorPipeline\n",
    "from langchain.retrievers import ContextualCompressionRetriever\n",
    "from langchain.document_transformers import LongContextReorder\n",
    "from langchain.retrievers.document_compressors import LLMChainFilter\n",
    "from langchain.storage import InMemoryStore\n",
    "from langchain.retrievers import ParentDocumentRetriever\n",
    "\n"
   ]
  },
  {
   "cell_type": "code",
   "execution_count": 106,
   "metadata": {},
   "outputs": [
    {
     "name": "stdout",
     "output_type": "stream",
     "text": [
      "huggingface/tokenizers: The current process just got forked, after parallelism has already been used. Disabling parallelism to avoid deadlocks...\n",
      "To disable this warning, you can either:\n",
      "\t- Avoid using `tokenizers` before the fork if possible\n",
      "\t- Explicitly set the environment variable TOKENIZERS_PARALLELISM=(true | false)\n",
      "Requirement already satisfied: pinecone-client in /Users/macbook/miniconda3/envs/py39/lib/python3.9/site-packages (2.2.2)\n",
      "Requirement already satisfied: openai in /Users/macbook/miniconda3/envs/py39/lib/python3.9/site-packages (0.27.8)\n",
      "Requirement already satisfied: tiktoken in /Users/macbook/miniconda3/envs/py39/lib/python3.9/site-packages (0.4.0)\n",
      "Requirement already satisfied: langchain in /Users/macbook/miniconda3/envs/py39/lib/python3.9/site-packages (0.0.262)\n",
      "Requirement already satisfied: requests>=2.19.0 in /Users/macbook/miniconda3/envs/py39/lib/python3.9/site-packages (from pinecone-client) (2.31.0)\n",
      "Requirement already satisfied: pyyaml>=5.4 in /Users/macbook/miniconda3/envs/py39/lib/python3.9/site-packages (from pinecone-client) (6.0.1)\n",
      "Requirement already satisfied: loguru>=0.5.0 in /Users/macbook/miniconda3/envs/py39/lib/python3.9/site-packages (from pinecone-client) (0.7.0)\n",
      "Requirement already satisfied: typing-extensions>=3.7.4 in /Users/macbook/miniconda3/envs/py39/lib/python3.9/site-packages (from pinecone-client) (4.7.1)\n",
      "Requirement already satisfied: dnspython>=2.0.0 in /Users/macbook/miniconda3/envs/py39/lib/python3.9/site-packages (from pinecone-client) (2.4.2)\n",
      "Requirement already satisfied: python-dateutil>=2.5.3 in /Users/macbook/miniconda3/envs/py39/lib/python3.9/site-packages (from pinecone-client) (2.8.2)\n",
      "Requirement already satisfied: urllib3>=1.21.1 in /Users/macbook/miniconda3/envs/py39/lib/python3.9/site-packages (from pinecone-client) (2.0.4)\n",
      "Requirement already satisfied: tqdm>=4.64.1 in /Users/macbook/miniconda3/envs/py39/lib/python3.9/site-packages (from pinecone-client) (4.65.0)\n",
      "Requirement already satisfied: numpy>=1.22.0 in /Users/macbook/miniconda3/envs/py39/lib/python3.9/site-packages (from pinecone-client) (1.25.2)\n",
      "Requirement already satisfied: aiohttp in /Users/macbook/miniconda3/envs/py39/lib/python3.9/site-packages (from openai) (3.8.5)\n",
      "Requirement already satisfied: regex>=2022.1.18 in /Users/macbook/miniconda3/envs/py39/lib/python3.9/site-packages (from tiktoken) (2023.6.3)\n",
      "Requirement already satisfied: SQLAlchemy<3,>=1.4 in /Users/macbook/miniconda3/envs/py39/lib/python3.9/site-packages (from langchain) (2.0.19)\n",
      "Requirement already satisfied: async-timeout<5.0.0,>=4.0.0 in /Users/macbook/miniconda3/envs/py39/lib/python3.9/site-packages (from langchain) (4.0.2)\n",
      "Requirement already satisfied: dataclasses-json<0.6.0,>=0.5.7 in /Users/macbook/miniconda3/envs/py39/lib/python3.9/site-packages (from langchain) (0.5.14)\n",
      "Requirement already satisfied: langsmith<0.1.0,>=0.0.11 in /Users/macbook/miniconda3/envs/py39/lib/python3.9/site-packages (from langchain) (0.0.22)\n",
      "Requirement already satisfied: numexpr<3.0.0,>=2.8.4 in /Users/macbook/miniconda3/envs/py39/lib/python3.9/site-packages (from langchain) (2.8.5)\n",
      "Requirement already satisfied: openapi-schema-pydantic<2.0,>=1.2 in /Users/macbook/miniconda3/envs/py39/lib/python3.9/site-packages (from langchain) (1.2.4)\n",
      "Requirement already satisfied: pydantic<2,>=1 in /Users/macbook/miniconda3/envs/py39/lib/python3.9/site-packages (from langchain) (1.10.12)\n",
      "Requirement already satisfied: tenacity<9.0.0,>=8.1.0 in /Users/macbook/miniconda3/envs/py39/lib/python3.9/site-packages (from langchain) (8.2.2)\n",
      "Requirement already satisfied: attrs>=17.3.0 in /Users/macbook/miniconda3/envs/py39/lib/python3.9/site-packages (from aiohttp->openai) (23.1.0)\n",
      "Requirement already satisfied: charset-normalizer<4.0,>=2.0 in /Users/macbook/miniconda3/envs/py39/lib/python3.9/site-packages (from aiohttp->openai) (3.2.0)\n",
      "Requirement already satisfied: multidict<7.0,>=4.5 in /Users/macbook/miniconda3/envs/py39/lib/python3.9/site-packages (from aiohttp->openai) (6.0.4)\n",
      "Requirement already satisfied: yarl<2.0,>=1.0 in /Users/macbook/miniconda3/envs/py39/lib/python3.9/site-packages (from aiohttp->openai) (1.9.2)\n",
      "Requirement already satisfied: frozenlist>=1.1.1 in /Users/macbook/miniconda3/envs/py39/lib/python3.9/site-packages (from aiohttp->openai) (1.4.0)\n",
      "Requirement already satisfied: aiosignal>=1.1.2 in /Users/macbook/miniconda3/envs/py39/lib/python3.9/site-packages (from aiohttp->openai) (1.3.1)\n",
      "Requirement already satisfied: marshmallow<4.0.0,>=3.18.0 in /Users/macbook/miniconda3/envs/py39/lib/python3.9/site-packages (from dataclasses-json<0.6.0,>=0.5.7->langchain) (3.20.1)\n",
      "Requirement already satisfied: typing-inspect<1,>=0.4.0 in /Users/macbook/miniconda3/envs/py39/lib/python3.9/site-packages (from dataclasses-json<0.6.0,>=0.5.7->langchain) (0.9.0)\n",
      "Requirement already satisfied: six>=1.5 in /Users/macbook/miniconda3/envs/py39/lib/python3.9/site-packages (from python-dateutil>=2.5.3->pinecone-client) (1.16.0)\n",
      "Requirement already satisfied: idna<4,>=2.5 in /Users/macbook/miniconda3/envs/py39/lib/python3.9/site-packages (from requests>=2.19.0->pinecone-client) (3.4)\n",
      "Requirement already satisfied: certifi>=2017.4.17 in /Users/macbook/miniconda3/envs/py39/lib/python3.9/site-packages (from requests>=2.19.0->pinecone-client) (2023.7.22)\n",
      "Requirement already satisfied: packaging>=17.0 in /Users/macbook/miniconda3/envs/py39/lib/python3.9/site-packages (from marshmallow<4.0.0,>=3.18.0->dataclasses-json<0.6.0,>=0.5.7->langchain) (23.1)\n",
      "Requirement already satisfied: mypy-extensions>=0.3.0 in /Users/macbook/miniconda3/envs/py39/lib/python3.9/site-packages (from typing-inspect<1,>=0.4.0->dataclasses-json<0.6.0,>=0.5.7->langchain) (1.0.0)\n"
     ]
    }
   ],
   "source": [
    "!pip install pinecone-client openai tiktoken langchain\n",
    "# !pip install faiss-cpu\n",
    "# !pip install underthesea\n"
   ]
  },
  {
   "cell_type": "code",
   "execution_count": 2,
   "metadata": {},
   "outputs": [],
   "source": [
    "def load_json_vectorstore():\n",
    "    txt_loader = JSONLoader(\n",
    "        file_path=\"/Users/macbook/mta/serving-chat/file.json\",\n",
    "        jq_schema=\".[].text\",\n",
    "    )\n",
    "    documents = txt_loader.load()\n",
    "    text_splitter = RecursiveCharacterTextSplitter(\n",
    "        chunk_size=512, chunk_overlap=0,\n",
    "    )\n",
    "    \n",
    "    all_splits = text_splitter.split_documents(documents)\n",
    "    return all_splits"
   ]
  },
  {
   "cell_type": "code",
   "execution_count": null,
   "metadata": {},
   "outputs": [],
   "source": [
    "import json\n",
    "from underthesea import text_normalize\n",
    "import pandas as pd\n",
    "from langchain.schema import Document\n",
    "\n",
    "df = pd.read_csv(\"c3.csv\")\n",
    "output_chunk = []\n",
    "for doc in df.iterrows():\n",
    "    # print(doc[1].text)\n",
    "    output_chunk.append(Document(page_content=text_normalize(doc[1].text)))"
   ]
  },
  {
   "cell_type": "code",
   "execution_count": 3,
   "metadata": {},
   "outputs": [],
   "source": [
    "# import pinecone\n",
    "# from langchain.vectorstores import Pinecone\n",
    "\n",
    "# # initialize pinecone\n",
    "# pinecone.init(\n",
    "#     api_key=\"288540e9-e7dc-4a9b-b4f8-383fe463ee87\",  # find at app.pinecone.io\n",
    "#     environment=\"gcp-starter\",  # next to api key in console\n",
    "# )\n",
    "\n",
    "# index_name = \"langchain-demo\"\n",
    "\n",
    "# # First, check if our index already exists. If it doesn't, we create it\n",
    "# if index_name not in pinecone.list_indexes():\n",
    "#     # we create a new index\n",
    "#     pinecone.create_index(\n",
    "#       name=index_name,\n",
    "#       metric='cosine',\n",
    "#       dimension=1024\n",
    "# )\n",
    "# # The OpenAI embedding model `text-embedding-ada-002 uses 1536 dimensions`\n",
    "# docsearch = Pinecone.from_documents(all_splits, embeddings, index_name=index_name)\n",
    "\n",
    "# # if you already have an index, you can load it like this\n",
    "# # docsearch = Pinecone.from_existing_index(index_name, embeddings)\n",
    "\n"
   ]
  },
  {
   "cell_type": "code",
   "execution_count": 73,
   "metadata": {},
   "outputs": [
    {
     "name": "stderr",
     "output_type": "stream",
     "text": [
      "No sentence-transformers model found with name /Users/macbook/.cache/torch/sentence_transformers/vinai_phobert-base-v2. Creating a new one with MEAN pooling.\n",
      "Some weights of RobertaModel were not initialized from the model checkpoint at /Users/macbook/.cache/torch/sentence_transformers/vinai_phobert-base-v2 and are newly initialized: ['roberta.pooler.dense.bias', 'roberta.pooler.dense.weight']\n",
      "You should probably TRAIN this model on a down-stream task to be able to use it for predictions and inference.\n",
      "Special tokens have been added in the vocabulary, make sure the associated word embeddings are fine-tuned or trained.\n",
      "No sentence-transformers model found with name /Users/macbook/.cache/torch/sentence_transformers/vinai_bartpho-syllable. Creating a new one with MEAN pooling.\n"
     ]
    }
   ],
   "source": [
    "# all_splits = load_vectorstore()\n",
    "\n",
    "\n",
    "\n",
    "all_splits = output_chunk\n",
    "embeddings = HuggingFaceEmbeddings(model_name=\"vinai/phobert-base-v2\")\n",
    "vectorstore = FAISS.from_documents(all_splits, embeddings)\n",
    "tfidf_retriever = TFIDFRetriever.from_documents(all_splits, search_type=\"similarity\", search_kwargs={\"k\": 2, \"include_metadata\": False})\n",
    "emb_retriever = vectorstore.as_retriever(search_type=\"mmr\", search_kwargs={\"k\": 2, \"include_metadata\": False})\n",
    "qa_embeddings = HuggingFaceEmbeddings(model_name=\"vinai/bartpho-syllable\")\n",
    "_qavectorstore = FAISS.from_documents(all_splits, qa_embeddings)\n",
    "qa_retriever = _qavectorstore.as_retriever(search_type=\"mmr\", search_kwargs={\"k\": 2, \"include_metadata\": False})\n",
    "ensemble_retriever = EnsembleRetriever(retrievers=[tfidf_retriever, emb_retriever, qa_retriever], weights=[0.4, 0.3, 0.2], search_kwargs={\"k\": 3, \"include_metadata\": False})\n",
    "\n",
    "\n",
    "# merge_retriever = MergerRetriever(retrievers=[tfidf_retriever, emb_retriever])\n",
    "# _filter = LLMChainFilter.from_llm(llm)\n",
    "\n",
    "# _filter = EmbeddingsRedundantFilter(embeddings=filter_embeddings)\n",
    "# reordering = LongContextReorder()\n",
    "# pipeline = DocumentCompressorPipeline(transformers=[_filter, reordering])\n",
    "# compression_retriever = ContextualCompressionRetriever(base_compressor=pipeline, base_retriever=merge_retriever)\n",
    "# The storage layer for the parent documents\n",
    "# store = InMemoryStore()\n",
    "# child_splitter = RecursiveCharacterTextSplitter(chunk_size=400)\n",
    "\n",
    "# parent_retriever = ParentDocumentRetriever(\n",
    "#     vectorstore=_qavectorstore, \n",
    "#     docstore=store, \n",
    "#     child_splitter=child_splitter,\n",
    "# )\n",
    "# txt_loader = JSONLoader(\n",
    "#         file_path=\"/Users/macbook/mta/serving-chat/file.json\",\n",
    "#         jq_schema=\".[].text\",\n",
    "#         # content_key=\"text\",\n",
    "#         # metadata_func=metadata_func\n",
    "#     )\n",
    "# documents = txt_loader.load()\n",
    "# text_splitter = RecursiveCharacterTextSplitter(\n",
    "#     chunk_size=512, chunk_overlap=0,\n",
    "# )\n",
    "\n",
    "# all_splits = text_splitter.split_documents(documents)\n",
    "# retriever = ParentDocumentRetriever(\n",
    "#     vectorstore=vectorstore, \n",
    "#     docstore=store, \n",
    "#     child_splitter=child_splitter,\n",
    "#     parent_splitter=parent_splitter,\n",
    "# )\n"
   ]
  },
  {
   "cell_type": "code",
   "execution_count": 74,
   "metadata": {},
   "outputs": [
    {
     "data": {
      "text/plain": [
       "[Document(page_content='Điều 3 . Giờ hành chính và giờ chuẩn giảng dạy . Giờ hành chính : là đơn vị thời gian làm việc theo chế độ tuần làm việc 40 giờ được quy định trong Bộ luật Lao động ( 01 giờ hành chính bằng 60 phút ) . Giờ chuẩn giảng dạy : ( sau đây gọi tắt là giờ chuẩn ) là đơn vị thời gian quy đổi để thực hiện một công việc tương đương cho một tiết ( 45 phút ) giảng dạy lý thuyết trình độ đại học trực tiếp trên giảng đường hoặc giảng dạy trực tuyến , bao gồm thời gian lao động cần thiết trước , trong và sau tiết giảng .', metadata={}),\n",
       " Document(page_content='Quy đổi giờ chuẩn đối với hoạt động ngoại khóa . . Giảng viên chuyên trách kiêm nhiệm cố vấn học tập đơn vị tính 1 lớp tương ứng với 70 giờ chuẩn . Tham gia Hội đồng chấm thi phương pháp giảng dạy , Hội đồng thi tuyển giảng viên đơn vị tính 1 giảng viên tương ứng với 3 giờ chuẩn .', metadata={}),\n",
       " Document(page_content='Đối tượng xét giảng viên giỏi , tốt yêu cầu - Tổng số giảng viên của khoa ( viện ) là số giảng viên đang tham gia giảng dạy tại đơn vị trong năm học ( tính cả trợ giảng và giảng viên kiêm nhiệm ; không tính giảng viên thỉnh giảng ) .', metadata={}),\n",
       " Document(page_content='Quy đổi giờ chuẩn đối với hoạt động hướng dẫn và tham gia Hội đồng nghiệm thu đề tài NCKH của học viên . Hướng dẫn đề tài NCKH của học viên Có 3 trường hợp : - nếu là hoàn thành thì đơn vị tính là 1 ĐT tương ứng với số giờ chuẩn là 30 giờ ; - nếu là khá thì đơn vị tính là 1 ĐT tương ứng với số giờ chuẩn là 45 giờ - nếu là giỏi , xuất sắc thì đơn vị tính là 1 ĐT tương ứng với số giờ chuẩn là 75 giờ . Tham gia Hội đồng nghiệm thu đề tài NCKH của học viên Có đơn vị tính là 1 ĐT tương ứng với số giờ chuẩn là 3 giờ', metadata={}),\n",
       " Document(page_content='Điều 2 . Giảng viên tại Học viện Kỹ thuật quân sự . Giảng viên : là các cán bộ có nhiệm vụ giảng dạy do Nhà nước quy định , gồm : trợ giảng ( TrG ) , giảng viên ( GV ) , giảng viên chính ( GVC ) , giảng viên cao cấp ( GVCC ) , phó giáo sư ( PGS ) , giáo sư ( GS ) tham gia công tác đào tạo tại Học viện . Giảng viên chuyên trách : là những giảng viên được biên chế chính thức trong các khoa , viện và trung tâm ( sau đây gọi chung là khoa ) của Học viện .', metadata={})]"
      ]
     },
     "execution_count": 74,
     "metadata": {},
     "output_type": "execute_result"
    }
   ],
   "source": [
    "ensemble_retriever.get_relevant_documents(\"Giờ giảng dạy là gì?\")"
   ]
  },
  {
   "cell_type": "code",
   "execution_count": 75,
   "metadata": {},
   "outputs": [
    {
     "data": {
      "text/plain": [
       "[Document(page_content='Điều 3 . Giờ hành chính và giờ chuẩn giảng dạy . Giờ hành chính : là đơn vị thời gian làm việc theo chế độ tuần làm việc 40 giờ được quy định trong Bộ luật Lao động ( 01 giờ hành chính bằng 60 phút ) . Giờ chuẩn giảng dạy : ( sau đây gọi tắt là giờ chuẩn ) là đơn vị thời gian quy đổi để thực hiện một công việc tương đương cho một tiết ( 45 phút ) giảng dạy lý thuyết trình độ đại học trực tiếp trên giảng đường hoặc giảng dạy trực tuyến , bao gồm thời gian lao động cần thiết trước , trong và sau tiết giảng .', metadata={}),\n",
       " Document(page_content='Đối tượng xét giảng viên giỏi , tốt yêu cầu - Tổng số giảng viên của khoa ( viện ) là số giảng viên đang tham gia giảng dạy tại đơn vị trong năm học ( tính cả trợ giảng và giảng viên kiêm nhiệm ; không tính giảng viên thỉnh giảng ) .', metadata={}),\n",
       " Document(page_content='Điều 7 . Định mức giờ chuẩn đối với giảng viên . Số giờ chuẩn giảng dạy trực tiếp trên lớp hoặc giảng dạy trực tuyến của giảng viên giữ chức vụ lãnh đạo , chỉ huy , quản lý và giảng viên kiêm nhiệm khác phải bảo đảm tối thiểu 50 % định mức giờ chuẩn quy định tại Khoản 1 Điều này .', metadata={}),\n",
       " Document(page_content='Quy đổi giờ chuẩn đối với hoạt động hướng dẫn và tham gia Hội đồng nghiệm thu đề tài NCKH của học viên . Hướng dẫn đề tài NCKH của học viên Có 3 trường hợp : - nếu là hoàn thành thì đơn vị tính là 1 ĐT tương ứng với số giờ chuẩn là 30 giờ ; - nếu là khá thì đơn vị tính là 1 ĐT tương ứng với số giờ chuẩn là 45 giờ - nếu là giỏi , xuất sắc thì đơn vị tính là 1 ĐT tương ứng với số giờ chuẩn là 75 giờ . Tham gia Hội đồng nghiệm thu đề tài NCKH của học viên Có đơn vị tính là 1 ĐT tương ứng với số giờ chuẩn là 3 giờ', metadata={}),\n",
       " Document(page_content='Quy đổi giờ chuẩn đối với hoạt động 4 . Biên tập xây dựng các bộ tranh vẽ phục vụ giảng dạy môn học ( đã được Hội đồng khoa học khoa thông qua ) đơn vị tính 1 Tờ / khổ A0 tương ứng với 10 giờ chuẩn 1 Tờ / khổ A3 tương ứng với 5 giờ chuẩn .', metadata={}),\n",
       " Document(page_content='Quy đổi giờ chuẩn đối với hoạt động ngoại khóa . . Giảng viên chuyên trách kiêm nhiệm cố vấn học tập đơn vị tính 1 lớp tương ứng với 70 giờ chuẩn . Tham gia Hội đồng chấm thi phương pháp giảng dạy , Hội đồng thi tuyển giảng viên đơn vị tính 1 giảng viên tương ứng với 3 giờ chuẩn .', metadata={}),\n",
       " Document(page_content='Quy đổi giờ hành chính đối với hoạt động biên soạn sách tham khảo , giáo trình , tài liệu tham khảo , sách hướng dẫn . 1 . Đối với nội dung công việc Sách chuyên khảo ( tối đa không quá 1300 giờ HC ) thì đơn vị tính là 1 trang tương ứng với số giờ chuẩn là 4.5 giờ . 2 . Đối với nội dung công việc Giáo trình , tài liệu dạy học , tài liệu huấn luyện , điều lệ , điều lệnh mới ( tối đa không quá 1200 giờ HC ) thì có 2 trường hợp : - nếu là mới thì đơn vị tính là 1 trang tương ứng với số giờ chuẩn là 4 giờ ;', metadata={})]"
      ]
     },
     "execution_count": 75,
     "metadata": {},
     "output_type": "execute_result"
    }
   ],
   "source": [
    "\n",
    "# print(len(chunk.page_content.split()))\n",
    "ensemble_retriever.get_relevant_documents(\"Giờ chuẩn giảng dạy là gì?\")"
   ]
  },
  {
   "cell_type": "code",
   "execution_count": 76,
   "metadata": {},
   "outputs": [
    {
     "data": {
      "text/plain": [
       "[Document(page_content='Đối tượng xét giảng viên giỏi , tốt yêu cầu - Tổng số giảng viên của khoa ( viện ) là số giảng viên đang tham gia giảng dạy tại đơn vị trong năm học ( tính cả trợ giảng và giảng viên kiêm nhiệm ; không tính giảng viên thỉnh giảng ) .', metadata={}),\n",
       " Document(page_content='Điều 7 . Định mức giờ chuẩn đối với giảng viên giữ chức vụ lãnh đạo , chỉ huy , quản lý và giảng viên kiêm nhiệm . Giảng viên được bổ nhiệm giữ chức vụ lãnh đạo , quản lý hoặc kiêm nhiệm công tác khác có trách nhiệm giảng dạy với định mức được tính theo tỷ lệ % của định mức giờ chuẩn tại Điều 5 ( Phụ lục 1 ) . Giảng viên kiêm nhiệm nhiều chức vụ thì áp dụng định mức giờ chuẩn có tỷ lệ yêu cầu nhỏ nhất quy định tại Khoản 1 Điều này .', metadata={}),\n",
       " Document(page_content='Điều 11 . Chế độ làm việc đối với giảng viên kiêm nghiệm .. Khoa , bộ môn phân công giảng dạy và tạo điều kiện để giảng viên kiêm nhiệm thực hiện tốt nhiệm vụ giảng dạy và hoạt động KHCN. Cơ quan nơi giảng viên kiêm nhiệm công tác bố trí công việc để cán bộ đó có thể thực hiện tốt kế hoạch giảng dạy và hoạt động KHCN đã được bộ môn thông qua . Khi trùng lịch công tác phải ưu tiên thực hiện nhiệm vụ giảng dạy .', metadata={}),\n",
       " Document(page_content='Điều 11 . Chế độ làm việc đối với giảng viên kiêm nghiệm . - Sau khi được bộ môn thông qua , nhiệm vụ giảng dạy và hoạt động KHCN của giảng viên kiêm nhiệm phải được đưa vào kế hoạch công tác năm học và được chỉ huy cơ quan nơi công tác phê duyệt . - Giảng viên kiêm nhiệm phải tham gia sinh hoạt chuyên môn , học thuật định kỳ theo quy định , tham gia giảng dạy , nghiên cứu khoa học theo định mức tối thiểu được quy định tại Điều 6 , Điều 7 của Quy định này và hoàn thành nhiệm vụ giảng dạy , hoạt động KHCN được giao .', metadata={}),\n",
       " Document(page_content='Quy đổi giờ chuẩn đối với hoạt động ngoại khóa . . Giảng viên chuyên trách kiêm nhiệm cố vấn học tập đơn vị tính 1 lớp tương ứng với 70 giờ chuẩn . Tham gia Hội đồng chấm thi phương pháp giảng dạy , Hội đồng thi tuyển giảng viên đơn vị tính 1 giảng viên tương ứng với 3 giờ chuẩn .', metadata={}),\n",
       " Document(page_content='Điều 2 . Giảng viên tại Học viện Kỹ thuật quân sự . Giảng viên kiêm nhiệm : là những cán bộ trong Học viện không thuộc biên chế của các khoa , có tham gia công tác đào tạo . Giảng viên thỉnh giảng : là những nhà khoa học , giảng viên ngoài Học viện hoặc giảng viên của Học viện đã nghỉ hưu được mời tham gia công tác đào tạo theo quy định hiện hành về mời giảng tại Học viện .', metadata={})]"
      ]
     },
     "execution_count": 76,
     "metadata": {},
     "output_type": "execute_result"
    }
   ],
   "source": [
    "ensemble_retriever.get_relevant_documents(\"Giảng viên kiêm nhiệm là gì?\")"
   ]
  },
  {
   "cell_type": "code",
   "execution_count": 77,
   "metadata": {},
   "outputs": [
    {
     "data": {
      "text/plain": [
       "[Document(page_content='Đối tượng xét giảng viên giỏi , tốt yêu cầu - Tổng số giảng viên của khoa ( viện ) là số giảng viên đang tham gia giảng dạy tại đơn vị trong năm học ( tính cả trợ giảng và giảng viên kiêm nhiệm ; không tính giảng viên thỉnh giảng ) .', metadata={}),\n",
       " Document(page_content='Điều 12 . Chế độ làm việc đối với giảng viên thỉnh giảng . Thực hiện theo quy định hiện hành về mời giảng tại Học viện Kỹ thuật quân sự .', metadata={}),\n",
       " Document(page_content='Quy đổi giờ chuẩn đối với hoạt động ngoại khóa . . Giảng viên chuyên trách kiêm nhiệm cố vấn học tập đơn vị tính 1 lớp tương ứng với 70 giờ chuẩn . Tham gia Hội đồng chấm thi phương pháp giảng dạy , Hội đồng thi tuyển giảng viên đơn vị tính 1 giảng viên tương ứng với 3 giờ chuẩn .', metadata={}),\n",
       " Document(page_content='Điều 2 . Giảng viên tại Học viện Kỹ thuật quân sự . Giảng viên kiêm nhiệm : là những cán bộ trong Học viện không thuộc biên chế của các khoa , có tham gia công tác đào tạo . Giảng viên thỉnh giảng : là những nhà khoa học , giảng viên ngoài Học viện hoặc giảng viên của Học viện đã nghỉ hưu được mời tham gia công tác đào tạo theo quy định hiện hành về mời giảng tại Học viện .', metadata={}),\n",
       " Document(page_content='Điều 2 . Giảng viên tại Học viện Kỹ thuật quân sự . Giảng viên : là các cán bộ có nhiệm vụ giảng dạy do Nhà nước quy định , gồm : trợ giảng ( TrG ) , giảng viên ( GV ) , giảng viên chính ( GVC ) , giảng viên cao cấp ( GVCC ) , phó giáo sư ( PGS ) , giáo sư ( GS ) tham gia công tác đào tạo tại Học viện . Giảng viên chuyên trách : là những giảng viên được biên chế chính thức trong các khoa , viện và trung tâm ( sau đây gọi chung là khoa ) của Học viện .', metadata={})]"
      ]
     },
     "execution_count": 77,
     "metadata": {},
     "output_type": "execute_result"
    }
   ],
   "source": [
    "ensemble_retriever.get_relevant_documents(\"Giảng viên thỉnh giảng là gì?\")"
   ]
  },
  {
   "cell_type": "code",
   "execution_count": 78,
   "metadata": {},
   "outputs": [
    {
     "data": {
      "text/plain": [
       "[Document(page_content='Quy đổi giờ chuẩn đối với hoạt động hoạt động đào tạo có sử dụng ngoại ngữ . Thẩm định ngôn ngữ của ĐATN LVCH LATS viết bằng ngoại ngữ có 3 trường hợp : Đại học đơn vị tính 1 ĐATN tướng ứng 7 giờ chuẩn . Thạc sỹ đơn vị tính 1 LVCH tướng ứng 10 giờ chuẩn . Tiến sĩ đơn vị tính 1 LATS tương ứng với 15 giờ chuẩn . Hoạt động đào tạo bằng ngoại ngữ có 3 Trường hợp Dạy 100 % bằng ngoại ngữ đối với học phần không phải là ngoại ngữ đơn vị tính 1 tiết tướng ứng 2 giờ chuẩn .', metadata={}),\n",
       " Document(page_content='Quy đổi giờ chuẩn đối với hoạt động Dạy song ngữ đơn vị tính1 tiết tương ứng với 1.5 giờ chuẩn Các hoạt động đào tạo khác mà ngôn ngữ sử dụng là ngoại ngữ thì được tính tải bằng hệ số so với sử dụng Tiếng Việt tương ứng như sau : + Đối với đào tạo đại học : hệ số 13 + Đối với đào tạo sau đại học : hệ số 15', metadata={}),\n",
       " Document(page_content='Quy đổi giờ chuẩn đối với hoạt động 18 . Đối với nội dung công việc Tham gia hoạt động Tư liệu - Thư viện thì có 4 trường hợp : - nếu là Xác định các thuật ngữ , chủ đề , từ khóa chuyên ngành của GT-TLTK ngoại văn ( từ 5 loại ngoại ngữ thông dụng sang Tiếng Việt ) thì đơn vị tính là 20 thuật ngữ tương ứng với số giờ hành chính là 2 giờ ; - nếu là Dịch tóm tắt nội dung GT-TLTK ngoại văn chuyên ngành ( Từ 5 loại ngoại ngữ thông dụng sang Tiếng Việt ) thì đơn vị tính là 1 trang tác giả tương ứng với số giờ hành chính là 5 giờ ;', metadata={}),\n",
       " Document(page_content='Quy đổi giờ hành chính đối với hoạt động Khoa học công nghệ khác . Tham gia Hội đồng xét duyệt , tuyển chọn nhiệm vụ KHCN , Có 2 trường hợp : - nếu là Đề tài cấp Quốc gia thì đơn vị tính là 1 ĐT tương ứng với số giờ chuẩn là 9 giờ ; - nếu là Đề tài cấp bộ , ngành và tương đương thì đơn vị tính là 1 ĐT tương ứng với số giờ chuẩn là 6 giờ . Tham gia Hội đồng đánh giá , nghiệm thu nhiệm vụ KHCN bao gồm :', metadata={}),\n",
       " Document(page_content='Quy đổi giờ chuẩn đối với hoạt động 4 . Biên tập xây dựng các bộ tranh vẽ phục vụ giảng dạy môn học ( đã được Hội đồng khoa học khoa thông qua ) đơn vị tính 1 Tờ / khổ A0 tương ứng với 10 giờ chuẩn 1 Tờ / khổ A3 tương ứng với 5 giờ chuẩn .', metadata={}),\n",
       " Document(page_content='Quy đổi giờ chuẩn Xây dựng mới ngân hàng câu hỏi thi tự luận đơn vị tính 1 Câu hỏi = 05 giờ mới ngân hàng câu hỏi thi trắc nghiệm đơn vị tính 1 Câu hỏi = 01 giờ chuẩn Sửa đổi bổ sung đơn vị tính 1 TC tương ứng với 5 giờ chuẩn .', metadata={})]"
      ]
     },
     "execution_count": 78,
     "metadata": {},
     "output_type": "execute_result"
    }
   ],
   "source": [
    "ensemble_retriever.get_relevant_documents(\"Quy đổi giờ chuẩn ngoại ngữ là bao nhiêu?\")"
   ]
  },
  {
   "cell_type": "code",
   "execution_count": 79,
   "metadata": {},
   "outputs": [
    {
     "data": {
      "text/plain": [
       "[Document(page_content='Quy đổi giờ chuẩn đối với hoạt động Thư ký đơn vị tính 1 CT tướng ứng 20 giờ chuẩn . Ủy viên đơn vị tính1 CT tướng ứng 15 giờ chuẩn .', metadata={}),\n",
       " Document(page_content='Tỷ lệ định mức giờ chuẩn giảng dạy đối với giảng viên giữ chức vụ chỉ huy , quản lý và giảm viên kiêm nhiệm . Với đối tượng Giám đốc , Chính ủy : Có tỉ lệ định mức giờ chuẩn là 10 % . Với đối tượng Phó Giám đốc , Phó Chính ủy : Có tỉ lệ định mức giờ chuẩn là 15 % . Với cán bộ quản lý , chỉ huy công tác đoàn thể : - Trưởng phòng ( trực thuộc Học viện ) và tương đương Có tỉ lệ định mức giờ chuẩn là 20 % . - Phó trưởng phòng ( trực thuộc Học viện ) , trưởng ban và tương đương Có tỉ lệ định mức giờ chuẩn là 25 % .', metadata={}),\n",
       " Document(page_content='Quy đổi giờ hành chính đối với hoạt động Khoa học công nghệ khác . Tham gia Hội đồng xét duyệt , tuyển chọn nhiệm vụ KHCN , Có 2 trường hợp : - nếu là Đề tài cấp Quốc gia thì đơn vị tính là 1 ĐT tương ứng với số giờ chuẩn là 9 giờ ; - nếu là Đề tài cấp bộ , ngành và tương đương thì đơn vị tính là 1 ĐT tương ứng với số giờ chuẩn là 6 giờ . Tham gia Hội đồng đánh giá , nghiệm thu nhiệm vụ KHCN bao gồm :', metadata={}),\n",
       " Document(page_content='Quy đổi giờ chuẩn đối với hoạt động 9 . Đối với nội dung công việc Bằng phát minh thì đơn vị tính là 1 PM tương ứng với số giờ chuẩn là 1500 giờ . 10 . Đối với nội dung công việc Bằng độc quyền sáng chế thì đơn vị tính là 1 SC tương ứng với số giờ chuẩn là 1300 giờ . 11 . Đối với nội dung công việc Bằng độc quyền giải pháp hữu ích thì đơn vị tính là 1 GP tương ứng với số giờ chuẩn là 1000 giờ .', metadata={}),\n",
       " Document(page_content='Quy đổi giờ chuẩn đối với hoạt động 4 . Đối với nội dung công việc Sáng kiến kỹ thuật cấp Quốc gia thì đơn vị tính là 1 SK tương ứng với số giờ chuẩn là 900 giờ . 5 . Đối với nội dung công việc Giải thưởng Hội thi Sáng tạo kỹ thuật toàn quốc thì có 4 trường hợp : - nếu đạt giải Nhất thì đơn vị tính là 1 GT tương ứng với số giờ chuẩn là 1000 giờ ; - nếu đạt giải Nhì thì đơn vị tính là 1 GT tương ứng với số giờ chuẩn là 850 giờ ; - nếu đạt giải Ba thì đơn vị tính là 1 GT tương ứng với số giờ chuẩn là 750 giờ ;', metadata={}),\n",
       " Document(page_content='Điều 7 . Định mức giờ chuẩn đối với giảng viên . Số giờ chuẩn giảng dạy trực tiếp trên lớp hoặc giảng dạy trực tuyến của giảng viên giữ chức vụ lãnh đạo , chỉ huy , quản lý và giảng viên kiêm nhiệm khác phải bảo đảm tối thiểu 50 % định mức giờ chuẩn quy định tại Khoản 1 Điều này .', metadata={}),\n",
       " Document(page_content='Điều 15 . Cách tính vượt định mức giờ chuẩn . Số giờ chuẩn vượt định mức trong năm học được tính chung cho bộ môn . Trường hợp bộ môn không vượt định mức chuẩn thì giảng viên thuộc bộ môn đó không được hưởng chế độ vượt định mức giờ chuẩn của cá nhân . Giờ giảng của giảng viên kiêm nhiệm và giảng viên thỉnh giảng không cộng vào giờ dạy của bộ môn để tính vượt định mức chuẩn .', metadata={})]"
      ]
     },
     "execution_count": 79,
     "metadata": {},
     "output_type": "execute_result"
    }
   ],
   "source": [
    "ensemble_retriever.get_relevant_documents(\"Quy đổi giờ chuẩn đối với giám đốc là bao nhiêu?\")"
   ]
  },
  {
   "cell_type": "code",
   "execution_count": 80,
   "metadata": {},
   "outputs": [
    {
     "data": {
      "text/plain": [
       "[Document(page_content='Điều 1 . Phạm vi điều chỉnh và đối tượng áp dụng của quy định 2053 : Văn bản này quy định về chế độ làm việc của giảng viên tại Học viện Kỹ thuật quân sự ( sau đây gọi tắt là Học viện ) , bao gồm : Định mức thời gian làm việc , giờ chuẩn , chế độ làm việc và tính tải giảng dạy , tải hoạt động khoa học công nghệ ( KHCN ) . Đối tượng áp dụng : Quy định này được áp dụng cho toàn bộ đội ngũ giảng viên của Học viện .', metadata={}),\n",
       " Document(page_content='Điều 7 . Định mức giờ chuẩn đối với giảng viên giữ chức vụ lãnh đạo , chỉ huy , quản lý và giảng viên kiêm nhiệm . Giảng viên được bổ nhiệm giữ chức vụ lãnh đạo , quản lý hoặc kiêm nhiệm công tác khác có trách nhiệm giảng dạy với định mức được tính theo tỷ lệ % của định mức giờ chuẩn tại Điều 5 ( Phụ lục 1 ) . Giảng viên kiêm nhiệm nhiều chức vụ thì áp dụng định mức giờ chuẩn có tỷ lệ yêu cầu nhỏ nhất quy định tại Khoản 1 Điều này .', metadata={}),\n",
       " Document(page_content='Điều 16 . Quản lý , sử dụng thời gian làm việc . Khi khối lượng của một mặt công tác không đủ định mức quy định , có thể bù bằng khối lượng của mặt công tác còn lại nếu mặt công tác đó vượt định mức chuẩn theo quy tắc 1 giờ chuẩn tương đương 3 giờ hành chính . Khi sử dụng tải KHCN bù sang tải giảng dạy thì được tính hoàn thành nhiệm vụ và có thể được xét khen thưởng . Nếu sử dụng tải giảng dạy bù sang tải KHCN thì chỉ được tính hoàn thành nhiệm vụ , không được dùng để xét khen thưởng .', metadata={}),\n",
       " Document(page_content='Quy đổi giờ chuẩn đối với hoạt động Dạy song ngữ đơn vị tính1 tiết tương ứng với 1.5 giờ chuẩn Các hoạt động đào tạo khác mà ngôn ngữ sử dụng là ngoại ngữ thì được tính tải bằng hệ số so với sử dụng Tiếng Việt tương ứng như sau : + Đối với đào tạo đại học : hệ số 13 + Đối với đào tạo sau đại học : hệ số 15', metadata={}),\n",
       " Document(page_content='Quy đổi giờ chuẩn đối với hoạt động 4 . Biên tập xây dựng các bộ tranh vẽ phục vụ giảng dạy môn học ( đã được Hội đồng khoa học khoa thông qua ) đơn vị tính 1 Tờ / khổ A0 tương ứng với 10 giờ chuẩn 1 Tờ / khổ A3 tương ứng với 5 giờ chuẩn .', metadata={}),\n",
       " Document(page_content='Trong quá trình triển khai thực hiện , nếu xuất hiện nội dung chưa phù hợp hoặc khi có các quy định mới của Bộ Giáo dục & Đào tạo , Bộ Quốc phòng , các cơ quan , đơn vị chủ động báo cáo , đề xuất với Học viện ( qua Phòng Đào tạo ) để ra quyết định bổ sung , sửa đổi Quy định này . / .', metadata={}),\n",
       " Document(page_content='Quy đổi giờ chuẩn đối với hoạt động Thư ký đơn vị tính 1 CT tướng ứng 20 giờ chuẩn . Ủy viên đơn vị tính1 CT tướng ứng 15 giờ chuẩn .', metadata={})]"
      ]
     },
     "execution_count": 80,
     "metadata": {},
     "output_type": "execute_result"
    }
   ],
   "source": [
    "ensemble_retriever.get_relevant_documents(\"Quy định áp dụng với ai?\")"
   ]
  },
  {
   "cell_type": "code",
   "execution_count": 81,
   "metadata": {},
   "outputs": [
    {
     "data": {
      "text/plain": [
       "[Document(page_content='Tiêu chuẩn cán bộ quản lý học viên tốt . Đối tượng : Cán bộ tham gia quản lý học viên ( không xét đối với các trợ lý của các đơn vị quản lý học viên ) . Số lượng : Không quá 15 % tổng số cán bộ quản lý học viên của đơn vị . Tiêu chuẩn : Cán bộ quản lý học viên tốt là người gương mẫu trong việc thực hiện các quy chế liên quan đến giáo dục , đào tạo , quản lý học viên trong Học viện ;', metadata={}),\n",
       " Document(page_content='Tiêu chuẩn cán bộ quản lý học viên tốt . là người tiêu biểu về phẩm chất đạo đức , tác phong , năng lực quản lý , chỉ huy của người cán bộ giáo dục được đồng nghiệp và học viên yêu mến , tín nhiệm . - Cán bộ quản lý học viên tốt phải hoàn thành tốt các chế độ , chức trách theo quy định chung và quy định trong quy chế về công tác quản lý học viên tại Học viện , tham gia nghiên cứu về khoa học quản lý giáo dục ; năng động , tìm tòi , đề xuất sáng kiến để công tác quản lý giáo dục có hiệu quả , chất lượng cao . - Đạt chuẩn trình độ ngoại ngữ theo quy định .', metadata={}),\n",
       " Document(page_content='Đối tượng xét giảng viên giỏi , tốt yêu cầu trong năm học , được đánh giá xếp loại cán bộ hoàn thành tốt nhiệm vụ trở lên . - Giảng viên dạy giỏi phải đạt ít nhất 90 % số phiếu tín nhiệm của giảng viên trong bộ môn , khoa và ít nhất 2/3 số phiếu tín nhiệm của Hội đồng xét giảng viên dạy giỏi , dạy tốt cấp Học viện . Số lượng các danh hiệu : Giảng viên dạy giỏi : không quá 15 % tổng số giảng viên của khoa ( viện ) . - Giảng viên dạy tốt : không quá 10 % tổng số giảng viên của khoa ( viện ) .', metadata={}),\n",
       " Document(page_content='Quy đổi giờ hành chính đối với hoạt động Phản biện đề tài NCKH của học viên . Có đơn vị tính là 1 ĐT tương ứng với số giờ chuẩn là 3 giờ . Hướng dẫn thi sáng tạo KHKT ( Minirobocon cấp Học viện , Robocon cấp Quốc gia , Cuộc đua số “ Xe không người lái ” , Cuộc thi Softcon , Giải Loa thành ... ) : Cán bộ hướng dẫn chính được 1/3 giờ chuẩn , còn lại chia đều cho tập thể hướng dẫn ( kể cả cán bộ hướng dẫn chính ) . Cấp Học viện : Có 4 trường hợp : Tham gia vòng loại thì đơn vị tính là 1 đội tương ứng với số giờ chuẩn là 35 ;', metadata={}),\n",
       " Document(page_content='Tiêu chuẩn cụ thể đối với giảng viên dạy giỏi bao gồm giảng dạy : - Kết quả học tập của lớp học viên do giảng viên được phân công giảng dạy học phần hoặc môn học trong năm học : từ 90 % đạt yêu cầu trở lên , trong đó có trên 50 % đạt khá , giỏi .', metadata={}),\n",
       " Document(page_content='Điều 15 . Cách tính vượt định mức giờ chuẩn . Số giờ chuẩn vượt định mức trong năm học được tính chung cho bộ môn . Trường hợp bộ môn không vượt định mức chuẩn thì giảng viên thuộc bộ môn đó không được hưởng chế độ vượt định mức giờ chuẩn của cá nhân . Giờ giảng của giảng viên kiêm nhiệm và giảng viên thỉnh giảng không cộng vào giờ dạy của bộ môn để tính vượt định mức chuẩn .', metadata={})]"
      ]
     },
     "execution_count": 81,
     "metadata": {},
     "output_type": "execute_result"
    }
   ],
   "source": [
    "ensemble_retriever.get_relevant_documents(\"Với tiêu chuẩn cán bộ quản lý học viên tốt, có giới hạn số lượng cán bộ quản lý học viên không quá bao nhiêu phần trăm tổng số của đơn vị??\")"
   ]
  },
  {
   "cell_type": "code",
   "execution_count": 82,
   "metadata": {},
   "outputs": [
    {
     "data": {
      "text/plain": [
       "[Document(page_content='Tiêu chuẩn cán bộ quản lý học viên tốt . Đối tượng : Cán bộ tham gia quản lý học viên ( không xét đối với các trợ lý của các đơn vị quản lý học viên ) . Số lượng : Không quá 15 % tổng số cán bộ quản lý học viên của đơn vị . Tiêu chuẩn : Cán bộ quản lý học viên tốt là người gương mẫu trong việc thực hiện các quy chế liên quan đến giáo dục , đào tạo , quản lý học viên trong Học viện ;', metadata={}),\n",
       " Document(page_content='Tiêu chuẩn cán bộ quản lý học viên tốt . là người tiêu biểu về phẩm chất đạo đức , tác phong , năng lực quản lý , chỉ huy của người cán bộ giáo dục được đồng nghiệp và học viên yêu mến , tín nhiệm . - Cán bộ quản lý học viên tốt phải hoàn thành tốt các chế độ , chức trách theo quy định chung và quy định trong quy chế về công tác quản lý học viên tại Học viện , tham gia nghiên cứu về khoa học quản lý giáo dục ; năng động , tìm tòi , đề xuất sáng kiến để công tác quản lý giáo dục có hiệu quả , chất lượng cao . - Đạt chuẩn trình độ ngoại ngữ theo quy định .', metadata={}),\n",
       " Document(page_content='Điều 16 . Quản lý , sử dụng thời gian làm việc . Kết quả giảng dạy và hoạt động KHCN của giảng viên được dùng để đánh giá mức độ hoàn thành nhiệm vụ trong năm học và làm cơ sở xét tặng các danh hiệu , xét khen thưởng , thực hiện chế độ , chính sách đối với giảng viên theo quy định của Bộ Giáo dục & Đào tạo , Bộ Quốc phòng và Học viện .', metadata={}),\n",
       " Document(page_content='Điều 10 . Chế độ làm việc đối với giảng viên chuyên trách . Cuối học kỳ I , cuối năm học , giảng viên tổng kết công tác của mình theo nội dung kế hoạch công tác đã được phê duyệt bằng phần mềm Quản lý khoa học – công nghệ . - Giảng viên phải tham gia sinh hoạt chuyên môn , sinh hoạt học thuật tại khoa , bộ môn theo quy định hiện hành .', metadata={}),\n",
       " Document(page_content='Điều 3 . Giờ hành chính và giờ chuẩn giảng dạy . Một giờ chuẩn tương đương ba giờ hành chính . Định mức giờ chuẩn : là số giờ chuẩn tối thiểu mà một giảng viên phải thực hiện nhiệm vụ giảng dạy trong một năm học . Định mức nghiên cứu khoa học : là số giờ hành chính tối thiểu mà một giảng viên phải thực hiện nhiệm vụ nghiên cứu khoa học trong một năm học .', metadata={}),\n",
       " Document(page_content='Tiêu chuẩn cụ thể đối với giảng viên dạy giỏi bao gồm giảng dạy : - Kết quả học tập của lớp học viên do giảng viên được phân công giảng dạy học phần hoặc môn học trong năm học : từ 90 % đạt yêu cầu trở lên , trong đó có trên 50 % đạt khá , giỏi .', metadata={})]"
      ]
     },
     "execution_count": 82,
     "metadata": {},
     "output_type": "execute_result"
    }
   ],
   "source": [
    "ensemble_retriever.get_relevant_documents(\"Theo tiêu chuẩn cán bộ quản lý học viên tốt, cán bộ quản lý học viên cần tham gia vào hoạt động nào để nâng cao hiệu quả và chất lượng công tác quản lý giáo dục??\")"
   ]
  },
  {
   "cell_type": "code",
   "execution_count": 83,
   "metadata": {},
   "outputs": [
    {
     "data": {
      "text/plain": [
       "[Document(page_content='Đối tượng xét giảng viên giỏi , tốt yêu cầu trong năm học , được đánh giá xếp loại cán bộ hoàn thành tốt nhiệm vụ trở lên . - Giảng viên dạy giỏi phải đạt ít nhất 90 % số phiếu tín nhiệm của giảng viên trong bộ môn , khoa và ít nhất 2/3 số phiếu tín nhiệm của Hội đồng xét giảng viên dạy giỏi , dạy tốt cấp Học viện . Số lượng các danh hiệu : Giảng viên dạy giỏi : không quá 15 % tổng số giảng viên của khoa ( viện ) . - Giảng viên dạy tốt : không quá 10 % tổng số giảng viên của khoa ( viện ) .', metadata={}),\n",
       " Document(page_content='Đối tượng xét giảng viên giỏi , tốt yêu cầu - Tổng số giảng viên của khoa ( viện ) là số giảng viên đang tham gia giảng dạy tại đơn vị trong năm học ( tính cả trợ giảng và giảng viên kiêm nhiệm ; không tính giảng viên thỉnh giảng ) .', metadata={}),\n",
       " Document(page_content='Tiêu chuẩn cụ thể đối với giảng viên dạy giỏi bao gồm giảng dạy : - Kết quả học tập của lớp học viên do giảng viên được phân công giảng dạy học phần hoặc môn học trong năm học : từ 90 % đạt yêu cầu trở lên , trong đó có trên 50 % đạt khá , giỏi .', metadata={}),\n",
       " Document(page_content='Đối tượng xét giảng viên giỏi , tốt yêu cầu - Kết quả học tập của lớp học viên do giảng viên được phân công giảng dạy học phần hoặc môn học trong năm học : từ 80 % đạt yêu cầu trở lên , trong đó có trên 40 % đạt khá , giỏi .', metadata={}),\n",
       " Document(page_content='Quy đổi giờ chuẩn đối với hoạt động Dạy song ngữ đơn vị tính1 tiết tương ứng với 1.5 giờ chuẩn Các hoạt động đào tạo khác mà ngôn ngữ sử dụng là ngoại ngữ thì được tính tải bằng hệ số so với sử dụng Tiếng Việt tương ứng như sau : + Đối với đào tạo đại học : hệ số 13 + Đối với đào tạo sau đại học : hệ số 15', metadata={}),\n",
       " Document(page_content='Đối tượng xét giảng viên giỏi , tốt yêu cầu là Giảng viên chuyên trách và giảng viên kiêm nhiệm ( có chức danh từ giảng viên trở lên ) được quy định tại Điều 2 . Tiêu chuẩn chung : Tiêu biểu về đạo đức , phẩm chất và năng lực của giảng viên ; - Tiên phong trong việc thực hiện các nhiệm vụ giáo dục , đào tạo và hoạt động KHCN trong năm học , bao gồm : giảng dạy , xây dựng CTĐT , biên soạn giáo trình , tài liệu ; tham gia hoạt động KHCN ; xây dựng cơ sở vật chất ;', metadata={}),\n",
       " Document(page_content='Điều 12 . Chế độ làm việc đối với giảng viên thỉnh giảng . Thực hiện theo quy định hiện hành về mời giảng tại Học viện Kỹ thuật quân sự .', metadata={})]"
      ]
     },
     "execution_count": 83,
     "metadata": {},
     "output_type": "execute_result"
    }
   ],
   "source": [
    "ensemble_retriever.get_relevant_documents(\"Để được xem là giảng viên dạy tốt, giảng viên cần đáp ứng những yêu cầu gì cụ thể???\")\n"
   ]
  },
  {
   "cell_type": "code",
   "execution_count": null,
   "metadata": {},
   "outputs": [],
   "source": []
  },
  {
   "cell_type": "code",
   "execution_count": null,
   "metadata": {},
   "outputs": [],
   "source": []
  },
  {
   "cell_type": "code",
   "execution_count": 50,
   "metadata": {},
   "outputs": [],
   "source": [
    "\n",
    "    "
   ]
  },
  {
   "cell_type": "code",
   "execution_count": 152,
   "metadata": {},
   "outputs": [],
   "source": [
    "\n",
    "OUTPUT_CHUNK = []\n",
    "for chunk in all_splits:\n",
    "    OUTPUT.append({ \"text\": chunk.page_content, \"len\": len(chunk.page_content.split())})\n",
    "    # if len(chunk.page_content.split()) < 30:\n",
    "    #     print(chunk.page_content)\n",
    "    # # print(len(chunk.page_content.split()))\n",
    "# df =pd.DataFrame(OUTPUT)\n",
    "# df.to_csv(\"chunk_split.csv\", index=False)"
   ]
  },
  {
   "cell_type": "code",
   "execution_count": 18,
   "metadata": {},
   "outputs": [],
   "source": [
    "import json\n",
    "from underthesea import text_normalize\n",
    "import pandas as pd\n",
    "from langchain.schema import Document\n",
    "\n",
    "with open(\"/Users/macbook/mta/serving-chat/QD2053_2.json\", \"r\") as f:\n",
    "    json_data = json.load(f)\n",
    "\n",
    "output_data = []\n",
    "for item in json_data[\"document\"][0]['subdocument']:\n",
    "    for content1 in item['content']:\n",
    "        for content2 in content1['content']:\n",
    "            output_data.append({ \"text\": text_normalize(\" \".join(content2['title'].replace('\\n', '').split()).strip())})\n",
    "output_chunk = []\n",
    "for doc in output_data:\n",
    "    output_chunk.append(Document(page_content=doc['text']))\n",
    "    \n",
    "\n",
    "\n",
    "# retriever = TFIDFRetriever.from_documents(\n",
    "#     [\n",
    "#         Document(page_content=\"foo\"),\n",
    "#         Document(page_content=\"bar\"),\n",
    "#         Document(page_content=\"world\"),\n",
    "#         Document(page_content=\"hello\"),\n",
    "#         Document(page_content=\"foo bar\"),\n",
    "#     ]\n",
    "# )\n",
    "\n",
    "\n",
    "# df =pd.DataFrame(output_data)\n",
    "# df.to_csv(\"file.csv\", index=False)\n",
    "# with open(\"file.json\", \"w+\") as f:\n",
    "#     json.dump(output_data, f)\n"
   ]
  },
  {
   "cell_type": "code",
   "execution_count": 19,
   "metadata": {},
   "outputs": [
    {
     "data": {
      "text/plain": [
       "'Điều 1 . Phạm vi điều chỉnh và đối tượng áp dụng của quy định 2053 : Văn bản này quy định về chế độ làm việc của giảng viên tại Học viện Kỹ thuật quân sự ( sau đây gọi tắt là Học viện ) , bao gồm : Định mức thời gian làm việc , giờ chuẩn , chế độ làm việc và tính tải giảng dạy , tải hoạt động khoa học công nghệ ( KHCN ) . Đối tượng áp dụng : Quy định này được áp dụng cho toàn bộ đội ngũ giảng viên của Học viện .'"
      ]
     },
     "execution_count": 19,
     "metadata": {},
     "output_type": "execute_result"
    }
   ],
   "source": [
    "output_chunk[0].page_content"
   ]
  },
  {
   "cell_type": "code",
   "execution_count": 6,
   "metadata": {},
   "outputs": [],
   "source": []
  },
  {
   "cell_type": "code",
   "execution_count": 29,
   "metadata": {},
   "outputs": [
    {
     "name": "stdout",
     "output_type": "stream",
     "text": [
      "hoặc các nhiệm vụ đặc thù: 320. - Tổng số: 1760.\n",
      "hoàn thành nhiệm vụ KHCN (cho dù vẫn đạt định mức tải KHCN theo yêu cầu).\n",
      "tính 5,0 giờ chuẩn. Trường hợp còn lại, một ngày hướng dẫn được tính 2,5 giờ chuẩn.\n",
      "học cấp Học viện được đánh giá, nghiệm thu Đạt trở lên.\n",
      "viện được đánh giá, nghiệm thu đạt trở lên.\n",
      "với số giờ chuẩn là 90;\n"
     ]
    }
   ],
   "source": [
    "for chunk in all_splits:\n",
    "    if len(chunk.page_content.split()) < 20:\n",
    "        print(chunk.page_content)\n",
    "    # print(len(chunk.page_content.split()))"
   ]
  },
  {
   "cell_type": "code",
   "execution_count": null,
   "metadata": {},
   "outputs": [],
   "source": [
    "prompt_template = \"\"\"\n",
    "Don't try to make up an answer, if you don't know just say that you don't know.\n",
    "Answer in the same language the question was asked.\n",
    "Use only the following pieces of context to answer the question at the end.\n",
    "\n",
    "{context}\n",
    "\n",
    "Question: {question}\n",
    "Answer:\"\"\"\n",
    "\n",
    "\n",
    "PROMPT = PromptTemplate(\n",
    "    template=prompt_template, \n",
    "    input_variables=[\"context\", \"question\"]\n",
    ")\n",
    "qa_chain = RetrievalQA.from_chain_type(llm = llm,\n",
    "                                       chain_type = \"stuff\", # map_reduce, map_rerank, stuff, refine\n",
    "                                       retriever = retriever, \n",
    "                                       chain_type_kwargs = {\"prompt\": PROMPT},\n",
    "                                       return_source_documents = True,\n",
    "                                       verbose = False)"
   ]
  }
 ],
 "metadata": {
  "kernelspec": {
   "display_name": "py39",
   "language": "python",
   "name": "python3"
  },
  "language_info": {
   "codemirror_mode": {
    "name": "ipython",
    "version": 3
   },
   "file_extension": ".py",
   "mimetype": "text/x-python",
   "name": "python",
   "nbconvert_exporter": "python",
   "pygments_lexer": "ipython3",
   "version": "3.9.16"
  },
  "orig_nbformat": 4
 },
 "nbformat": 4,
 "nbformat_minor": 2
}
